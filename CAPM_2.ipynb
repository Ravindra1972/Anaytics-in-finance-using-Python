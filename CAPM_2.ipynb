{
  "nbformat": 4,
  "nbformat_minor": 0,
  "metadata": {
    "colab": {
      "provenance": [],
      "authorship_tag": "ABX9TyPvUF9v3WusxR1KTGyaFpUZ",
      "include_colab_link": true
    },
    "kernelspec": {
      "name": "python3",
      "display_name": "Python 3"
    },
    "language_info": {
      "name": "python"
    }
  },
  "cells": [
    {
      "cell_type": "markdown",
      "metadata": {
        "id": "view-in-github",
        "colab_type": "text"
      },
      "source": [
        "<a href=\"https://colab.research.google.com/github/Ravindra1972/Anaytics-in-finance-using-Python/blob/main/CAPM_2.ipynb\" target=\"_parent\"><img src=\"https://colab.research.google.com/assets/colab-badge.svg\" alt=\"Open In Colab\"/></a>"
      ]
    },
    {
      "cell_type": "code",
      "execution_count": null,
      "metadata": {
        "id": "nL2BqJ14f-Ih"
      },
      "outputs": [],
      "source": [
        "import pandas as pd\n",
        "import yfinance as yf\n",
        "import statsmodels.api as sm\n"
      ]
    },
    {
      "cell_type": "code",
      "source": [
        "!pip install getFamaFrenchFactors\n",
        "import getFamaFrenchFactors as gff"
      ],
      "metadata": {
        "colab": {
          "base_uri": "https://localhost:8080/"
        },
        "id": "rulsDkmOiC56",
        "outputId": "f871f4d4-a81c-45d3-eb46-825dd62a4937"
      },
      "execution_count": null,
      "outputs": [
        {
          "output_type": "stream",
          "name": "stdout",
          "text": [
            "Collecting getFamaFrenchFactors\n",
            "  Downloading getFamaFrenchFactors-0.0.5-py3-none-any.whl (4.6 kB)\n",
            "Requirement already satisfied: pandas in /usr/local/lib/python3.10/dist-packages (from getFamaFrenchFactors) (2.0.3)\n",
            "Requirement already satisfied: requests in /usr/local/lib/python3.10/dist-packages (from getFamaFrenchFactors) (2.31.0)\n",
            "Collecting bs4 (from getFamaFrenchFactors)\n",
            "  Downloading bs4-0.0.2-py2.py3-none-any.whl (1.2 kB)\n",
            "Requirement already satisfied: beautifulsoup4 in /usr/local/lib/python3.10/dist-packages (from bs4->getFamaFrenchFactors) (4.12.3)\n",
            "Requirement already satisfied: python-dateutil>=2.8.2 in /usr/local/lib/python3.10/dist-packages (from pandas->getFamaFrenchFactors) (2.8.2)\n",
            "Requirement already satisfied: pytz>=2020.1 in /usr/local/lib/python3.10/dist-packages (from pandas->getFamaFrenchFactors) (2023.4)\n",
            "Requirement already satisfied: tzdata>=2022.1 in /usr/local/lib/python3.10/dist-packages (from pandas->getFamaFrenchFactors) (2024.1)\n",
            "Requirement already satisfied: numpy>=1.21.0 in /usr/local/lib/python3.10/dist-packages (from pandas->getFamaFrenchFactors) (1.25.2)\n",
            "Requirement already satisfied: charset-normalizer<4,>=2 in /usr/local/lib/python3.10/dist-packages (from requests->getFamaFrenchFactors) (3.3.2)\n",
            "Requirement already satisfied: idna<4,>=2.5 in /usr/local/lib/python3.10/dist-packages (from requests->getFamaFrenchFactors) (3.7)\n",
            "Requirement already satisfied: urllib3<3,>=1.21.1 in /usr/local/lib/python3.10/dist-packages (from requests->getFamaFrenchFactors) (2.0.7)\n",
            "Requirement already satisfied: certifi>=2017.4.17 in /usr/local/lib/python3.10/dist-packages (from requests->getFamaFrenchFactors) (2024.7.4)\n",
            "Requirement already satisfied: six>=1.5 in /usr/local/lib/python3.10/dist-packages (from python-dateutil>=2.8.2->pandas->getFamaFrenchFactors) (1.16.0)\n",
            "Requirement already satisfied: soupsieve>1.2 in /usr/local/lib/python3.10/dist-packages (from beautifulsoup4->bs4->getFamaFrenchFactors) (2.5)\n",
            "Installing collected packages: bs4, getFamaFrenchFactors\n",
            "Successfully installed bs4-0.0.2 getFamaFrenchFactors-0.0.5\n"
          ]
        }
      ]
    },
    {
      "cell_type": "code",
      "source": [
        "ticker = \"AMZN\"\n",
        "stock_data = yf.download(ticker, start=\"2016-06-30\", end=\"2024-07-20\")\n",
        "\n",
        "stock_prices = stock_data['Adj Close']\n",
        "stock_prices = stock_prices.resample(\"1M\").last()\n",
        "returns = stock_prices.pct_change()\n",
        "returns = returns.dropna()\n",
        "returns.name = \"Asset\""
      ],
      "metadata": {
        "colab": {
          "base_uri": "https://localhost:8080/"
        },
        "id": "-ihxLpZ3iLpb",
        "outputId": "785dc91b-6818-4c63-9022-79aeeaad8e00"
      },
      "execution_count": null,
      "outputs": [
        {
          "output_type": "stream",
          "name": "stderr",
          "text": [
            "\r[*********************100%%**********************]  1 of 1 completed\n"
          ]
        }
      ]
    },
    {
      "cell_type": "code",
      "source": [
        "ff3_monthly = pd.DataFrame(gff.famaFrench3Factor(frequency='m'))\n",
        "ff3_monthly.rename(columns={\"date_ff_factors\": 'Date'}, inplace=True)\n",
        "ff3_monthly.set_index('Date', inplace=True)\n",
        "ff_data = ff3_monthly.merge(returns, on='Date')\n",
        "rf = ff_data['RF'].mean()\n",
        "market_premium = ff_data['Mkt-RF'].mean()"
      ],
      "metadata": {
        "id": "PS9LKONQiTKq"
      },
      "execution_count": null,
      "outputs": []
    },
    {
      "cell_type": "code",
      "source": [
        "X = ff_data['Mkt-RF']\n",
        "ff_data['Asset-RF'] = ff_data['Asset'] - ff_data['RF']\n",
        "y = ff_data['Asset-RF']\n",
        "c = sm.add_constant(X)\n",
        "capm_model = sm.OLS(y, c)\n",
        "result = capm_model.fit()\n",
        "print(result.summary())\n",
        "intercept, beta = result.params"
      ],
      "metadata": {
        "colab": {
          "base_uri": "https://localhost:8080/"
        },
        "id": "Og_EnNI2iYOC",
        "outputId": "a9f6da7f-3075-4693-f023-1ef9226618e9"
      },
      "execution_count": null,
      "outputs": [
        {
          "output_type": "stream",
          "name": "stdout",
          "text": [
            "                            OLS Regression Results                            \n",
            "==============================================================================\n",
            "Dep. Variable:               Asset-RF   R-squared:                       0.427\n",
            "Model:                            OLS   Adj. R-squared:                  0.421\n",
            "Method:                 Least Squares   F-statistic:                     69.33\n",
            "Date:                Sat, 20 Jul 2024   Prob (F-statistic):           7.02e-13\n",
            "Time:                        14:26:43   Log-Likelihood:                 121.89\n",
            "No. Observations:                  95   AIC:                            -239.8\n",
            "Df Residuals:                      93   BIC:                            -234.7\n",
            "Df Model:                           1                                         \n",
            "Covariance Type:            nonrobust                                         \n",
            "==============================================================================\n",
            "                 coef    std err          t      P>|t|      [0.025      0.975]\n",
            "------------------------------------------------------------------------------\n",
            "const          0.0064      0.007      0.892      0.375      -0.008       0.021\n",
            "Mkt-RF         1.2043      0.145      8.327      0.000       0.917       1.492\n",
            "==============================================================================\n",
            "Omnibus:                        2.446   Durbin-Watson:                   1.963\n",
            "Prob(Omnibus):                  0.294   Jarque-Bera (JB):                1.847\n",
            "Skew:                           0.217   Prob(JB):                        0.397\n",
            "Kurtosis:                       3.527   Cond. No.                         20.8\n",
            "==============================================================================\n",
            "\n",
            "Notes:\n",
            "[1] Standard Errors assume that the covariance matrix of the errors is correctly specified.\n"
          ]
        }
      ]
    },
    {
      "cell_type": "code",
      "source": [
        "expected_return = rf + beta*market_premium\n",
        "print(\"Expected monthly returns: \" + str(expected_return))\n",
        "yearly_return = expected_return * 12\n",
        "print(\"Expected yearly returns: \" + str(yearly_return))"
      ],
      "metadata": {
        "id": "sEXof9QiicYb",
        "outputId": "3968cbd9-7431-4c0f-a546-08cb643c55b5",
        "colab": {
          "base_uri": "https://localhost:8080/"
        }
      },
      "execution_count": null,
      "outputs": [
        {
          "output_type": "stream",
          "name": "stdout",
          "text": [
            "Expected monthly returns: 0.014432362599361035\n",
            "Expected yearly returns: 0.17318835119233242\n"
          ]
        }
      ]
    }
  ]
}