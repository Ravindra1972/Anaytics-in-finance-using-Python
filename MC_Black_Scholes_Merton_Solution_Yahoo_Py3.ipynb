{
  "cells": [
    {
      "cell_type": "markdown",
      "metadata": {
        "id": "view-in-github",
        "colab_type": "text"
      },
      "source": [
        "<a href=\"https://colab.research.google.com/github/Ravindra1972/Anaytics-in-finance-using-Python/blob/main/MC_Black_Scholes_Merton_Solution_Yahoo_Py3.ipynb\" target=\"_parent\"><img src=\"https://colab.research.google.com/assets/colab-badge.svg\" alt=\"Open In Colab\"/></a>"
      ]
    },
    {
      "cell_type": "markdown",
      "metadata": {
        "id": "AeooGZjC1Dt3"
      },
      "source": [
        "## Monte Carlo - Black-Scholes-Merton"
      ]
    },
    {
      "cell_type": "markdown",
      "metadata": {
        "id": "RfRe9oq-1Dt6"
      },
      "source": [
        "*Suggested Answers follow (usually there are multiple ways to solve a problem in Python).*"
      ]
    },
    {
      "cell_type": "markdown",
      "metadata": {
        "id": "QzRylWmt1Dt6"
      },
      "source": [
        "Download the data for Microsoft (‘MSFT’) from Yahoo Finance for the period ‘2000-1-1’ until today."
      ]
    },
    {
      "cell_type": "markdown",
      "metadata": {
        "id": "OynkRQ1j1Dt7"
      },
      "source": [
        "We have written a few lines of code that will import the documents you need and define the functions estimating d1, d2, and the Black-Scholes-Merton formula."
      ]
    },
    {
      "cell_type": "code",
      "execution_count": null,
      "metadata": {
        "id": "YsQeVQh41Dt8"
      },
      "outputs": [],
      "source": [
        "import numpy as np\n",
        "import pandas as pd\n",
        "from pandas_datareader import data as wb\n",
        "from scipy.stats import norm\n",
        "\n",
        "ticker = 'MSFT'\n",
        "data = pd.DataFrame()\n",
        "data[ticker] = wb.DataReader(ticker, data_source='yahoo', start='2000-1-1')['Adj Close']"
      ]
    },
    {
      "cell_type": "code",
      "execution_count": null,
      "metadata": {
        "id": "Uf8BbYWp1Dt9"
      },
      "outputs": [],
      "source": [
        "def d1(S, K, r, stdev, T):\n",
        "    return (np.log(S / K) + (r + stdev ** 2 / 2) * T) / (stdev * np.sqrt(T))\n",
        "\n",
        "def d2(S, K, r, stdev, T):\n",
        "    return (np.log(S / K) + (r - stdev ** 2 / 2) * T) / (stdev * np.sqrt(T))\n",
        "\n",
        "def BSM(S, K, r, stdev, T):\n",
        "        return (S * norm.cdf(d1(S, K, r, stdev, T))) - (K * np.exp(-r * T) * norm.cdf(d2(S, K, r, stdev, T)))"
      ]
    },
    {
      "cell_type": "markdown",
      "metadata": {
        "id": "D4O-JAmU1Dt9"
      },
      "source": [
        "Store the annual standard deviation of the log returns in a variable, called “stdev”."
      ]
    },
    {
      "cell_type": "code",
      "execution_count": null,
      "metadata": {
        "id": "cdRKeUes1Dt-"
      },
      "outputs": [],
      "source": [
        "log_returns = np.log(1 + data.pct_change())"
      ]
    },
    {
      "cell_type": "code",
      "execution_count": null,
      "metadata": {
        "scrolled": true,
        "id": "dgCuvq-t1Dt-",
        "outputId": "334098e4-5da7-4702-e3d8-9e4e65cd3dd5"
      },
      "outputs": [
        {
          "data": {
            "text/html": [
              "<div>\n",
              "<style scoped>\n",
              "    .dataframe tbody tr th:only-of-type {\n",
              "        vertical-align: middle;\n",
              "    }\n",
              "\n",
              "    .dataframe tbody tr th {\n",
              "        vertical-align: top;\n",
              "    }\n",
              "\n",
              "    .dataframe thead th {\n",
              "        text-align: right;\n",
              "    }\n",
              "</style>\n",
              "<table border=\"1\" class=\"dataframe\">\n",
              "  <thead>\n",
              "    <tr style=\"text-align: right;\">\n",
              "      <th></th>\n",
              "      <th>MSFT</th>\n",
              "    </tr>\n",
              "    <tr>\n",
              "      <th>Date</th>\n",
              "      <th></th>\n",
              "    </tr>\n",
              "  </thead>\n",
              "  <tbody>\n",
              "    <tr>\n",
              "      <th>2019-01-30</th>\n",
              "      <td>0.032871</td>\n",
              "    </tr>\n",
              "    <tr>\n",
              "      <th>2019-01-31</th>\n",
              "      <td>-0.018501</td>\n",
              "    </tr>\n",
              "    <tr>\n",
              "      <th>2019-02-01</th>\n",
              "      <td>-0.015926</td>\n",
              "    </tr>\n",
              "    <tr>\n",
              "      <th>2019-02-04</th>\n",
              "      <td>0.028392</td>\n",
              "    </tr>\n",
              "    <tr>\n",
              "      <th>2019-02-05</th>\n",
              "      <td>0.013900</td>\n",
              "    </tr>\n",
              "  </tbody>\n",
              "</table>\n",
              "</div>"
            ],
            "text/plain": [
              "                MSFT\n",
              "Date                \n",
              "2019-01-30  0.032871\n",
              "2019-01-31 -0.018501\n",
              "2019-02-01 -0.015926\n",
              "2019-02-04  0.028392\n",
              "2019-02-05  0.013900"
            ]
          },
          "execution_count": 4,
          "metadata": {},
          "output_type": "execute_result"
        }
      ],
      "source": [
        "log_returns.tail()"
      ]
    },
    {
      "cell_type": "code",
      "execution_count": null,
      "metadata": {
        "id": "72aTb_uB1Dt_",
        "outputId": "98b5f563-6b03-4f25-de77-02867692ca63"
      },
      "outputs": [
        {
          "data": {
            "text/plain": [
              "MSFT    0.305163\n",
              "dtype: float64"
            ]
          },
          "execution_count": 5,
          "metadata": {},
          "output_type": "execute_result"
        }
      ],
      "source": [
        "stdev = log_returns.std() * 250 ** 0.5\n",
        "stdev"
      ]
    },
    {
      "cell_type": "markdown",
      "metadata": {
        "id": "JHJgy6XR1Dt_"
      },
      "source": [
        "Set the risk free rate, r, equal to 2.5% (0.025); the strike price, K, equal to 110.0; and the time horizon, T, equal to 1, respectively."
      ]
    },
    {
      "cell_type": "code",
      "execution_count": null,
      "metadata": {
        "id": "u87Upn3B1Dt_"
      },
      "outputs": [],
      "source": [
        "r = 0.025\n",
        "K = 110.0\n",
        "T = 1"
      ]
    },
    {
      "cell_type": "markdown",
      "metadata": {
        "id": "1yhQT2DN1Dt_"
      },
      "source": [
        "Create a variable S equal to the last adjusted closing price of Microsoft. Use the “iloc” method."
      ]
    },
    {
      "cell_type": "code",
      "execution_count": null,
      "metadata": {
        "id": "hJTk9Okb1DuA",
        "outputId": "f10af808-58cc-4e46-fbb2-81df56dafd5a"
      },
      "outputs": [
        {
          "data": {
            "text/plain": [
              "MSFT    107.220001\n",
              "Name: 2019-02-05 00:00:00, dtype: float64"
            ]
          },
          "execution_count": 7,
          "metadata": {},
          "output_type": "execute_result"
        }
      ],
      "source": [
        "S = data.iloc[-1]\n",
        "S"
      ]
    },
    {
      "cell_type": "markdown",
      "metadata": {
        "id": "DVJy5JpT1DuA"
      },
      "source": [
        "Call the d1 and d2 functions with the relevant arguments to obtain their values."
      ]
    },
    {
      "cell_type": "code",
      "execution_count": null,
      "metadata": {
        "id": "maf2yJFP1DuA",
        "outputId": "39dc8872-8452-41bc-9c52-7aad1475d302"
      },
      "outputs": [
        {
          "data": {
            "text/plain": [
              "MSFT    0.150624\n",
              "dtype: float64"
            ]
          },
          "execution_count": 8,
          "metadata": {},
          "output_type": "execute_result"
        }
      ],
      "source": [
        "d1(S, K, r, stdev, T)"
      ]
    },
    {
      "cell_type": "code",
      "execution_count": null,
      "metadata": {
        "scrolled": true,
        "id": "QbXPV-S51DuA",
        "outputId": "530cd1ea-9d41-4281-f2bf-50c9d45e35fa"
      },
      "outputs": [
        {
          "data": {
            "text/plain": [
              "MSFT   -0.15454\n",
              "dtype: float64"
            ]
          },
          "execution_count": 9,
          "metadata": {},
          "output_type": "execute_result"
        }
      ],
      "source": [
        "d2(S, K, r, stdev, T)"
      ]
    },
    {
      "cell_type": "markdown",
      "metadata": {
        "id": "gU7VehW61DuB"
      },
      "source": [
        "Use the BSM function to estimate the price of a call option, given you know the values of S, K, r, stdev, and T."
      ]
    },
    {
      "cell_type": "code",
      "execution_count": null,
      "metadata": {
        "id": "UcTAA6dp1DuB",
        "outputId": "bfdd54ce-dfbb-4374-80dd-1fbbfbb416c0"
      },
      "outputs": [
        {
          "data": {
            "text/plain": [
              "MSFT    12.97463\n",
              "Name: 2019-02-05 00:00:00, dtype: float64"
            ]
          },
          "execution_count": 10,
          "metadata": {},
          "output_type": "execute_result"
        }
      ],
      "source": [
        "BSM(S, K, r, stdev, T)"
      ]
    }
  ],
  "metadata": {
    "kernelspec": {
      "display_name": "Python 3",
      "language": "python",
      "name": "python3"
    },
    "language_info": {
      "codemirror_mode": {
        "name": "ipython",
        "version": 3
      },
      "file_extension": ".py",
      "mimetype": "text/x-python",
      "name": "python",
      "nbconvert_exporter": "python",
      "pygments_lexer": "ipython3",
      "version": "3.7.3"
    },
    "colab": {
      "provenance": [],
      "include_colab_link": true
    }
  },
  "nbformat": 4,
  "nbformat_minor": 0
}