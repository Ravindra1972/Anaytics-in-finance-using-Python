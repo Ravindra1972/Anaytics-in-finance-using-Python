{
  "nbformat": 4,
  "nbformat_minor": 0,
  "metadata": {
    "colab": {
      "provenance": [],
      "authorship_tag": "ABX9TyPKATxTecXXwZtfxXNM+yX2",
      "include_colab_link": true
    },
    "kernelspec": {
      "name": "python3",
      "display_name": "Python 3"
    },
    "language_info": {
      "name": "python"
    }
  },
  "cells": [
    {
      "cell_type": "markdown",
      "metadata": {
        "id": "view-in-github",
        "colab_type": "text"
      },
      "source": [
        "<a href=\"https://colab.research.google.com/github/Ravindra1972/Anaytics-in-finance-using-Python/blob/main/CAPM.ipynb\" target=\"_parent\"><img src=\"https://colab.research.google.com/assets/colab-badge.svg\" alt=\"Open In Colab\"/></a>"
      ]
    },
    {
      "cell_type": "code",
      "execution_count": 2,
      "metadata": {
        "id": "7Mk9yjDT28qT"
      },
      "outputs": [],
      "source": [
        "import yfinance as yf"
      ]
    },
    {
      "cell_type": "code",
      "source": [
        "tickers = ['SBIN.NS', 'TCS.NS', 'INFY.NS', 'BHEL.NS', 'CIPLA.NS', 'ITC.NS', '^NSEI']\n",
        "stock_data = yf.download(tickers, start=\"2016-08-1\", end=\"2023-11-1\")"
      ],
      "metadata": {
        "colab": {
          "base_uri": "https://localhost:8080/"
        },
        "id": "SgJ9SKpS4FIX",
        "outputId": "4ab52692-3efe-4645-c048-21166044edb1"
      },
      "execution_count": 3,
      "outputs": [
        {
          "output_type": "stream",
          "name": "stdout",
          "text": [
            "[*********************100%%**********************]  7 of 7 completed\n"
          ]
        }
      ]
    },
    {
      "cell_type": "code",
      "source": [
        "rf = 0.01307\n",
        "daily_returns = stock_data['Adj Close'].pct_change().dropna()\n",
        "rm = daily_returns['^NSEI'].mean() * 252\n"
      ],
      "metadata": {
        "id": "0IR9oxyJ58HM"
      },
      "execution_count": 5,
      "outputs": []
    },
    {
      "cell_type": "code",
      "source": [
        "cov = daily_returns.cov()\n",
        "var = daily_returns['^NSEI'].var()\n",
        "beta_tcs = cov.loc['TCS.NS', '^NSEI']/ var"
      ],
      "metadata": {
        "id": "5iYIMZOM_ByT"
      },
      "execution_count": 10,
      "outputs": []
    },
    {
      "cell_type": "code",
      "source": [
        "r_tcs = rf + (beta_tcs * (rm-rf))\n",
        "print(\"Expected rate of return on TCS is: \" + str(r_tcs))"
      ],
      "metadata": {
        "colab": {
          "base_uri": "https://localhost:8080/"
        },
        "id": "khJno1QQ_Fag",
        "outputId": "4ade501f-a2b6-4bbd-d91e-6662fad17cd8"
      },
      "execution_count": 11,
      "outputs": [
        {
          "output_type": "stream",
          "name": "stdout",
          "text": [
            "Expected rate of return on TCS is: 0.0885062187181781\n"
          ]
        }
      ]
    },
    {
      "cell_type": "code",
      "source": [
        "beta = cov.loc['^NSEI']/ var\n",
        "r_stocklist = rf + (beta * (rm-rf))\n",
        "print(r_stocklist)"
      ],
      "metadata": {
        "colab": {
          "base_uri": "https://localhost:8080/"
        },
        "id": "zkBcuqcT_Kqw",
        "outputId": "e2238e21-bcac-4fae-a5e2-5110d703f8cb"
      },
      "execution_count": 12,
      "outputs": [
        {
          "output_type": "stream",
          "name": "stdout",
          "text": [
            "BHEL.NS     0.151397\n",
            "CIPLA.NS    0.066228\n",
            "INFY.NS     0.104531\n",
            "ITC.NS      0.096435\n",
            "SBIN.NS     0.159349\n",
            "TCS.NS      0.088506\n",
            "^NSEI       0.126345\n",
            "Name: ^NSEI, dtype: float64\n"
          ]
        }
      ]
    }
  ]
}