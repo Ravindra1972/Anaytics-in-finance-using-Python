{
  "nbformat": 4,
  "nbformat_minor": 0,
  "metadata": {
    "colab": {
      "provenance": [],
      "authorship_tag": "ABX9TyO8bRcLchvXulolr6V2W6Dh",
      "include_colab_link": true
    },
    "kernelspec": {
      "name": "python3",
      "display_name": "Python 3"
    },
    "language_info": {
      "name": "python"
    }
  },
  "cells": [
    {
      "cell_type": "markdown",
      "metadata": {
        "id": "view-in-github",
        "colab_type": "text"
      },
      "source": [
        "<a href=\"https://colab.research.google.com/github/Ravindra1972/Anaytics-in-finance-using-Python/blob/main/CAPM.ipynb\" target=\"_parent\"><img src=\"https://colab.research.google.com/assets/colab-badge.svg\" alt=\"Open In Colab\"/></a>"
      ]
    },
    {
      "cell_type": "code",
      "execution_count": 1,
      "metadata": {
        "id": "7Mk9yjDT28qT"
      },
      "outputs": [],
      "source": [
        "import yfinance as yf"
      ]
    },
    {
      "cell_type": "code",
      "source": [
        "tickers = ['SBIN.NS', 'TCS.NS', 'INFY.NS', 'BHEL.NS', 'CIPLA.NS', 'ITC.NS', '^NSEI']\n",
        "stock_data = yf.download(tickers, start=\"2016-08-1\", end=\"2023-11-1\")"
      ],
      "metadata": {
        "colab": {
          "base_uri": "https://localhost:8080/"
        },
        "id": "SgJ9SKpS4FIX",
        "outputId": "800e985e-e8f9-41df-bc82-02c5274f8bec"
      },
      "execution_count": 2,
      "outputs": [
        {
          "output_type": "stream",
          "name": "stdout",
          "text": [
            "[*********************100%%**********************]  7 of 7 completed\n"
          ]
        }
      ]
    },
    {
      "cell_type": "code",
      "source": [
        "rf = 0.01307\n",
        "daily_returns = stock_data['Adj Close'].pct_change().dropna()\n",
        "rm = daily_returns['^NSEI'].mean() * 252\n"
      ],
      "metadata": {
        "id": "0IR9oxyJ58HM"
      },
      "execution_count": null,
      "outputs": []
    },
    {
      "cell_type": "code",
      "source": [
        "cov = daily_returns.cov()\n",
        "var = daily_returns['^NSEI'].var()\n",
        "beta_tcs = cov.loc['TCS.NS', '^NSEI']/ var\n",
        "beta_tcs\n"
      ],
      "metadata": {
        "id": "5iYIMZOM_ByT",
        "outputId": "fc4defbd-d8a2-4366-bbc2-56de470186e2",
        "colab": {
          "base_uri": "https://localhost:8080/"
        }
      },
      "execution_count": null,
      "outputs": [
        {
          "output_type": "execute_result",
          "data": {
            "text/plain": [
              "0.6659578409242459"
            ]
          },
          "metadata": {},
          "execution_count": 7
        }
      ]
    },
    {
      "cell_type": "code",
      "source": [
        "beta_CIPLA = cov.loc['CIPLA.NS', '^NSEI']/ var\n",
        "beta_CIPLA"
      ],
      "metadata": {
        "id": "Lr8P2gyNQhOU",
        "outputId": "799ee775-0732-4731-ba82-d7849f18a74c",
        "colab": {
          "base_uri": "https://localhost:8080/"
        }
      },
      "execution_count": null,
      "outputs": [
        {
          "output_type": "execute_result",
          "data": {
            "text/plain": [
              "0.4692808494114923"
            ]
          },
          "metadata": {},
          "execution_count": 9
        }
      ]
    },
    {
      "cell_type": "code",
      "source": [
        "beta_SBIN = cov.loc['SBIN.NS', '^NSEI']/ var\n",
        "beta_SBIN"
      ],
      "metadata": {
        "id": "vio12-57QjJO"
      },
      "execution_count": null,
      "outputs": []
    },
    {
      "cell_type": "code",
      "source": [
        "r_tcs = rf + (beta_tcs * (rm-rf))\n",
        "print(\"Expected rate of return on TCS is: \" + str(r_tcs))"
      ],
      "metadata": {
        "colab": {
          "base_uri": "https://localhost:8080/"
        },
        "id": "khJno1QQ_Fag",
        "outputId": "4ade501f-a2b6-4bbd-d91e-6662fad17cd8"
      },
      "execution_count": null,
      "outputs": [
        {
          "output_type": "stream",
          "name": "stdout",
          "text": [
            "Expected rate of return on TCS is: 0.0885062187181781\n"
          ]
        }
      ]
    },
    {
      "cell_type": "code",
      "source": [
        "beta = cov.loc['^NSEI']/ var\n",
        "r_stocklist = rf + (beta * (rm-rf))\n",
        "print(r_stocklist)"
      ],
      "metadata": {
        "colab": {
          "base_uri": "https://localhost:8080/"
        },
        "id": "zkBcuqcT_Kqw",
        "outputId": "e2238e21-bcac-4fae-a5e2-5110d703f8cb"
      },
      "execution_count": null,
      "outputs": [
        {
          "output_type": "stream",
          "name": "stdout",
          "text": [
            "BHEL.NS     0.151397\n",
            "CIPLA.NS    0.066228\n",
            "INFY.NS     0.104531\n",
            "ITC.NS      0.096435\n",
            "SBIN.NS     0.159349\n",
            "TCS.NS      0.088506\n",
            "^NSEI       0.126345\n",
            "Name: ^NSEI, dtype: float64\n"
          ]
        }
      ]
    },
    {
      "cell_type": "code",
      "source": [
        "#implement the CAPM in Python\n",
        "import pandas as pd\n",
        "import yfinance as yf\n",
        "import statsmodels.api as sm"
      ],
      "metadata": {
        "id": "kGZwE_xuIgKt"
      },
      "execution_count": 3,
      "outputs": []
    },
    {
      "cell_type": "code",
      "source": [
        "#Specify the risky asset, the benchmark, and the time horizon\n",
        "RISKY_ASSET = \"AMZN\"\n",
        "MARKET_BENCHMARK = \"^GSPC\"\n",
        "START_DATE = \"2016-01-01\"\n",
        "END_DATE = \"2023-12-08\""
      ],
      "metadata": {
        "id": "HtzkwH1bIsHP"
      },
      "execution_count": 4,
      "outputs": []
    },
    {
      "cell_type": "code",
      "source": [
        "df = yf.download([RISKY_ASSET, MARKET_BENCHMARK],\n",
        "start=START_DATE,\n",
        "end=END_DATE)"
      ],
      "metadata": {
        "colab": {
          "base_uri": "https://localhost:8080/"
        },
        "id": "sb9QP-xnI7Mt",
        "outputId": "e42f50e8-566f-477c-805d-f0872d09e7d8"
      },
      "execution_count": 5,
      "outputs": [
        {
          "output_type": "stream",
          "name": "stdout",
          "text": [
            "\r[                       0%%                      ]\r[*********************100%%**********************]  2 of 2 completed\n"
          ]
        }
      ]
    },
    {
      "cell_type": "code",
      "source": [
        "#Resample to monthly data and calculate the simple returns\n",
        "X = (\n",
        "df[\"Adj Close\"]\n",
        ".rename(columns={RISKY_ASSET: \"asset\",\n",
        "MARKET_BENCHMARK: \"market\"})\n",
        ".resample(\"M\")\n",
        ".last()\n",
        ".pct_change()\n",
        ".dropna()\n",
        ")"
      ],
      "metadata": {
        "id": "j9WLnnxhJQbG"
      },
      "execution_count": 6,
      "outputs": []
    },
    {
      "cell_type": "code",
      "source": [
        "#Calculate beta using the covariance approach\n",
        "covariance = X.cov().iloc[0,1]\n",
        "benchmark_variance = X.market.var()\n",
        "beta = covariance / benchmark_variance\n",
        "print(beta)"
      ],
      "metadata": {
        "colab": {
          "base_uri": "https://localhost:8080/"
        },
        "id": "fUqRMfImJzYO",
        "outputId": "1ca574f0-85b1-471c-c58b-e917837bcfff"
      },
      "execution_count": 7,
      "outputs": [
        {
          "output_type": "stream",
          "name": "stdout",
          "text": [
            "1.2467301789059477\n"
          ]
        }
      ]
    },
    {
      "cell_type": "code",
      "source": [
        "#These results indicate that the beta (denoted as the market here) is equal to 1.2, which means that\n",
        "#Amazon’s returns are 20% more volatile than the market (proxied by S&P 500). Or in other words,\n",
        "#Amazon’s (excess) return is expected to move 1.2 times the market (excess) return. The value of the\n",
        "#intercept is relatively small and statistically insignificant at the 5% significance level."
      ],
      "metadata": {
        "id": "O6xXbKkbKzku"
      },
      "execution_count": 8,
      "outputs": []
    },
    {
      "cell_type": "code",
      "source": [
        "#Prepare the input and estimate the CAPM as a linear regression\n",
        "# separate target\n",
        "y = X.pop(\"asset\")\n",
        "# add constant\n",
        "X = sm.add_constant(X)\n",
        "# define and fit the regression model\n",
        "capm_model = sm.OLS(y, X).fit()\n",
        "# print results\n",
        "print(capm_model.summary())"
      ],
      "metadata": {
        "colab": {
          "base_uri": "https://localhost:8080/"
        },
        "id": "xt-FsCuuKJt6",
        "outputId": "86545091-9516-4905-88fc-6ac38e24d654"
      },
      "execution_count": 9,
      "outputs": [
        {
          "output_type": "stream",
          "name": "stdout",
          "text": [
            "                            OLS Regression Results                            \n",
            "==============================================================================\n",
            "Dep. Variable:                  asset   R-squared:                       0.411\n",
            "Model:                            OLS   Adj. R-squared:                  0.404\n",
            "Method:                 Least Squares   F-statistic:                     64.83\n",
            "Date:                Wed, 13 Dec 2023   Prob (F-statistic):           2.64e-12\n",
            "Time:                        17:33:58   Log-Likelihood:                 120.05\n",
            "No. Observations:                  95   AIC:                            -236.1\n",
            "Df Residuals:                      93   BIC:                            -231.0\n",
            "Df Model:                           1                                         \n",
            "Covariance Type:            nonrobust                                         \n",
            "==============================================================================\n",
            "                 coef    std err          t      P>|t|      [0.025      0.975]\n",
            "------------------------------------------------------------------------------\n",
            "const          0.0083      0.007      1.147      0.254      -0.006       0.023\n",
            "market         1.2467      0.155      8.052      0.000       0.939       1.554\n",
            "==============================================================================\n",
            "Omnibus:                        1.651   Durbin-Watson:                   1.893\n",
            "Prob(Omnibus):                  0.438   Jarque-Bera (JB):                1.079\n",
            "Skew:                           0.166   Prob(JB):                        0.583\n",
            "Kurtosis:                       3.402   Cond. No.                         21.8\n",
            "==============================================================================\n",
            "\n",
            "Notes:\n",
            "[1] Standard Errors assume that the covariance matrix of the errors is correctly specified.\n"
          ]
        }
      ]
    },
    {
      "cell_type": "code",
      "source": [
        "#Using data from Prof. Kenneth French’s website\n",
        "#The market premium (rm - rf ) and the risk-free rate (approximated by the one-month Treasury Bill)\n",
        "#can be downloaded from Professor Kenneth French’s website Using the 13-Week T-bill (Yahoo Finance ticker: ^IRX)."
      ],
      "metadata": {
        "id": "qfUEoNIxKiAI"
      },
      "execution_count": 10,
      "outputs": []
    },
    {
      "cell_type": "code",
      "source": [
        "#Define the length of the period in days:\n",
        "N_DAYS = 90"
      ],
      "metadata": {
        "id": "sEVNTQFjLGrt"
      },
      "execution_count": 11,
      "outputs": []
    },
    {
      "cell_type": "code",
      "source": [
        "df_rf = yf.download(\"^IRX\",\n",
        "start=START_DATE,\n",
        "end=END_DATE,\n",
        "progress=False)"
      ],
      "metadata": {
        "id": "B4iMZp3mLYEu"
      },
      "execution_count": 12,
      "outputs": []
    },
    {
      "cell_type": "code",
      "source": [
        "#Resample the data to monthly frequency (by taking the last value for each month):"
      ],
      "metadata": {
        "id": "KYSFP_4rLbE2"
      },
      "execution_count": 13,
      "outputs": []
    },
    {
      "cell_type": "code",
      "source": [
        "rf = df_rf.resample(\"M\").last().Close / 100"
      ],
      "metadata": {
        "id": "tpqT1vTiLfZc"
      },
      "execution_count": 14,
      "outputs": []
    },
    {
      "cell_type": "code",
      "source": [
        "#Calculate the risk-free return (expressed as daily values) and convert the values to monthly"
      ],
      "metadata": {
        "id": "L_OfF6urLiGB"
      },
      "execution_count": 15,
      "outputs": []
    },
    {
      "cell_type": "code",
      "source": [
        "rf = ( 1 / (1 - rf * N_DAYS / 360) )**(1 / N_DAYS)\n",
        "rf = (rf ** 30) - 1"
      ],
      "metadata": {
        "id": "9CTSK4xSLnpN"
      },
      "execution_count": 16,
      "outputs": []
    },
    {
      "cell_type": "code",
      "source": [
        "rf.plot(title=\"Risk-free rate (13-Week Treasury Bill)\")"
      ],
      "metadata": {
        "colab": {
          "base_uri": "https://localhost:8080/",
          "height": 490
        },
        "id": "x18NyMoJLtEh",
        "outputId": "0ad847da-c127-4c0a-8db6-401a74d91917"
      },
      "execution_count": 17,
      "outputs": [
        {
          "output_type": "execute_result",
          "data": {
            "text/plain": [
              "<Axes: title={'center': 'Risk-free rate (13-Week Treasury Bill)'}, xlabel='Date'>"
            ]
          },
          "metadata": {},
          "execution_count": 17
        },
        {
          "output_type": "display_data",
          "data": {
            "text/plain": [
              "<Figure size 640x480 with 1 Axes>"
            ],
            "image/png": "[encoded data removed]"
          },
          "metadata": {}
        }
      ]
    },
    {
      "cell_type": "code",
      "source": [
        "#Using the 3-Month T-bill from the FRED(Federal Reserve Economic Data) database\n",
        "import pandas_datareader.data as web"
      ],
      "metadata": {
        "id": "VTo_wHkcL3Of"
      },
      "execution_count": 18,
      "outputs": []
    },
    {
      "cell_type": "code",
      "source": [
        "rf = web.DataReader(\n",
        "\"TB3MS\", \"fred\", start=START_DATE, end=END_DATE\n",
        ")"
      ],
      "metadata": {
        "id": "hCrvm6GyN8Hf"
      },
      "execution_count": 19,
      "outputs": []
    },
    {
      "cell_type": "code",
      "source": [
        "rf = (1 + (rf / 100)) ** (1 / 12) - 1"
      ],
      "metadata": {
        "id": "9OwRGMBlN_DT"
      },
      "execution_count": 20,
      "outputs": []
    },
    {
      "cell_type": "code",
      "source": [
        "rf.plot(title=\"Risk-free rate (3-Month Treasury Bill)\")"
      ],
      "metadata": {
        "colab": {
          "base_uri": "https://localhost:8080/",
          "height": 490
        },
        "id": "qKiXzqsrOBuO",
        "outputId": "ee38b1c7-8f59-4632-b3d3-d2aeb4d1f204"
      },
      "execution_count": 21,
      "outputs": [
        {
          "output_type": "execute_result",
          "data": {
            "text/plain": [
              "<Axes: title={'center': 'Risk-free rate (3-Month Treasury Bill)'}, xlabel='DATE'>"
            ]
          },
          "metadata": {},
          "execution_count": 21
        },
        {
          "output_type": "display_data",
          "data": {
            "text/plain": [
              "<Figure size 640x480 with 1 Axes>"
            ],
            "image/png": "[encoded data removed]"
          },
          "metadata": {}
        }
      ]
    }
  ]
}