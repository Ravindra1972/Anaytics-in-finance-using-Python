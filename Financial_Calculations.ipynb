{
  "nbformat": 4,
  "nbformat_minor": 0,
  "metadata": {
    "colab": {
      "provenance": [],
      "authorship_tag": "ABX9TyOe3om8duJdl7xgHRnfjaoO",
      "include_colab_link": true
    },
    "kernelspec": {
      "name": "python3",
      "display_name": "Python 3"
    },
    "language_info": {
      "name": "python"
    }
  },
  "cells": [
    {
      "cell_type": "markdown",
      "metadata": {
        "id": "view-in-github",
        "colab_type": "text"
      },
      "source": [
        "<a href=\"https://colab.research.google.com/github/Ravindra1972/Anaytics-in-finance-using-Python/blob/main/Financial_Calculations.ipynb\" target=\"_parent\"><img src=\"https://colab.research.google.com/assets/colab-badge.svg\" alt=\"Open In Colab\"/></a>"
      ]
    },
    {
      "cell_type": "code",
      "execution_count": 1,
      "metadata": {
        "id": "C64sSwZ9Akba"
      },
      "outputs": [],
      "source": [
        "import numpy as np\n",
        "import math"
      ]
    },
    {
      "cell_type": "code",
      "source": [
        "#simple interest\n",
        "\n",
        "def simple_interest(p, r, t):\n",
        "\n",
        "    print('Amount: ', p)\n",
        "    print(\"Rate of Interest (Per Annum)\", r)\n",
        "    print(\"Time (In Years): \",t)\n",
        "\n",
        "    si=(p*r*t)/100\n",
        "\n",
        "    a= p+si\n",
        "\n",
        "    print(\"Final Amount: \", a)\n",
        "    print(\"Simple Interest: \", si)\n",
        ""
      ],
      "metadata": {
        "id": "vk40J0ENAvax"
      },
      "execution_count": 2,
      "outputs": []
    },
    {
      "cell_type": "code",
      "source": [
        "simple_interest(1000, 5, 3)"
      ],
      "metadata": {
        "colab": {
          "base_uri": "https://localhost:8080/"
        },
        "id": "iAhcCnqyA1tg",
        "outputId": "88a61e41-f5e8-41ee-e909-d7bb7dc4b5a6"
      },
      "execution_count": 3,
      "outputs": [
        {
          "output_type": "stream",
          "name": "stdout",
          "text": [
            "Amount:  1000\n",
            "Rate of Interest (Per Annum) 5\n",
            "Time (In Years):  3\n",
            "Final Amount:  1150.0\n",
            "Simple Interest:  150.0\n"
          ]
        }
      ]
    },
    {
      "cell_type": "code",
      "source": [
        "#compound interest\n",
        "\n",
        "def compound_interest(p,r,t):\n",
        "\n",
        "    print('Amount: ', p)\n",
        "    print(\"Rate of Interest (Per Annum)\", r)\n",
        "    print(\"Time (In Years): \",t)\n",
        "\n",
        "    a= p*((1+r/100)**t)\n",
        "\n",
        "    ci= a-p\n",
        "    print(\"Final Amount: \", a)\n",
        "    print(\"Compound Interest: \", ci)"
      ],
      "metadata": {
        "id": "W0SdzrUDA6Y2"
      },
      "execution_count": 4,
      "outputs": []
    },
    {
      "cell_type": "code",
      "source": [
        "compound_interest(1000,10, 2)"
      ],
      "metadata": {
        "colab": {
          "base_uri": "https://localhost:8080/"
        },
        "id": "Q6asLcO-BK9u",
        "outputId": "f1010717-5f26-4b60-bb00-1a4080287bc5"
      },
      "execution_count": 5,
      "outputs": [
        {
          "output_type": "stream",
          "name": "stdout",
          "text": [
            "Amount:  1000\n",
            "Rate of Interest (Per Annum) 10\n",
            "Time (In Years):  2\n",
            "Final Amount:  1210.0000000000002\n",
            "Compound Interest:  210.00000000000023\n"
          ]
        }
      ]
    },
    {
      "cell_type": "code",
      "source": [
        "# Purchasing power\n",
        "\n",
        "def pur_power(p,r,t):\n",
        "\n",
        "    print(\"Initial Amount: \",p)\n",
        "    print(\"Annual Inflation Rate: \",r)\n",
        "    print(\"Time in years:\", t)\n",
        "\n",
        "    a= p* ((100/(100+r))**t)\n",
        "\n",
        "    print(\"Final amount after\",t,\"years of inflation: \", a)"
      ],
      "metadata": {
        "id": "YdZNHL3TBTDd"
      },
      "execution_count": 6,
      "outputs": []
    },
    {
      "cell_type": "code",
      "source": [
        "pur_power(10000,5,10)"
      ],
      "metadata": {
        "colab": {
          "base_uri": "https://localhost:8080/"
        },
        "id": "vHaPEclmBWnF",
        "outputId": "1b4c8eb9-8dd3-41d5-8c85-8cff8a6b31e7"
      },
      "execution_count": 7,
      "outputs": [
        {
          "output_type": "stream",
          "name": "stdout",
          "text": [
            "Initial Amount:  10000\n",
            "Annual Inflation Rate:  5\n",
            "Time in years: 10\n",
            "Final amount after 10 years of inflation:  6139.13253540759\n"
          ]
        }
      ]
    },
    {
      "cell_type": "code",
      "source": [
        "#compound annual growth rate\n",
        "\n",
        "def CAGR(p,a, t ):\n",
        "\n",
        "    print(\"Initial value of money: \",p)\n",
        "    print('Final value of money: ',a)\n",
        "    print(\"Time in years: \", t)\n",
        "    t_inv=1/t\n",
        "\n",
        "    cagr_rate= (((a/p)**t_inv)  -1)*100\n",
        "\n",
        "    print(\"Compound Annual Growth Rate (CAGR): \", cagr_rate)"
      ],
      "metadata": {
        "id": "nlwVWCvIBbRX"
      },
      "execution_count": 8,
      "outputs": []
    },
    {
      "cell_type": "code",
      "source": [
        "#monthly EMI calculation\n",
        "\n",
        "def EMI(p,r,n):\n",
        "\n",
        "    print(\"Total Loan Amount: \",p)\n",
        "    print(\"Rate of Interest: \",r)\n",
        "    print(\"Number of installments: \",n)\n",
        "\n",
        "    r_mon=  r/(12*100)\n",
        "\n",
        "    emi = p * r_mon * ((1+r_mon)**n)/((1+r_mon)**n - 1)\n",
        "    print(\"EMI for\",n,\"months: \",emi )\n",
        "\n",
        ""
      ],
      "metadata": {
        "id": "73BDuFIWBf6M"
      },
      "execution_count": 9,
      "outputs": []
    },
    {
      "cell_type": "code",
      "source": [
        "EMI(500000,8, 24)"
      ],
      "metadata": {
        "colab": {
          "base_uri": "https://localhost:8080/"
        },
        "id": "Z-vQLJeqBjFO",
        "outputId": "b6fada33-8b36-42bd-862c-8d9acaac12d0"
      },
      "execution_count": 10,
      "outputs": [
        {
          "output_type": "stream",
          "name": "stdout",
          "text": [
            "Total Loan Amount:  500000\n",
            "Rate of Interest:  8\n",
            "Number of installments:  24\n",
            "EMI for 24 months:  22613.645728092295\n"
          ]
        }
      ]
    },
    {
      "cell_type": "code",
      "source": [
        "#doubling time calculation\n",
        "\n",
        "def double(r):\n",
        "\n",
        "    print(\"Rate of Interest: \",r)\n",
        "\n",
        "    t= math.log(2)/math.log(1+ (r/100))\n",
        "\n",
        "    print(\"Time taken in years to double money at\",r,\"percent PA: \", t)"
      ],
      "metadata": {
        "id": "hCO2A27kBkP_"
      },
      "execution_count": 11,
      "outputs": []
    },
    {
      "cell_type": "code",
      "source": [
        "double(8)"
      ],
      "metadata": {
        "colab": {
          "base_uri": "https://localhost:8080/"
        },
        "id": "AmQ3CWdiBnQH",
        "outputId": "163a1bd2-7fec-40f1-a87c-b361c4f0f844"
      },
      "execution_count": 12,
      "outputs": [
        {
          "output_type": "stream",
          "name": "stdout",
          "text": [
            "Rate of Interest:  8\n",
            "Time taken in years to double money at 8 percent PA:  9.006468342000588\n"
          ]
        }
      ]
    },
    {
      "cell_type": "code",
      "source": [
        "#Weighted Average\n",
        "ratio=[0.20, 0.25, 0.35,0.10, 0.10]\n",
        "rates=[7.5, 8.5, 8, 5, 6]\n",
        "\n",
        "\n",
        "def weighted_average(ratio,rates):\n",
        "\n",
        "    wa=0\n",
        "\n",
        "    for i in range(len(ratio)):\n",
        "\n",
        "        wa= wa+ ratio[i]*rates[i]\n",
        "\n",
        "    print(\"Weighted Average returns: \",wa)\n",
        ""
      ],
      "metadata": {
        "id": "dODqQBFgBsf2"
      },
      "execution_count": 13,
      "outputs": []
    },
    {
      "cell_type": "code",
      "source": [
        "weighted_average(ratio,rates)"
      ],
      "metadata": {
        "colab": {
          "base_uri": "https://localhost:8080/"
        },
        "id": "vvXw7B_WBwI4",
        "outputId": "c2bb928f-70f5-40ae-b1cd-83677b44d63b"
      },
      "execution_count": 14,
      "outputs": [
        {
          "output_type": "stream",
          "name": "stdout",
          "text": [
            "Weighted Average returns:  7.525\n"
          ]
        }
      ]
    },
    {
      "cell_type": "code",
      "source": [
        "import numpy as np\n",
        "import matplotlib.pyplot as plt"
      ],
      "metadata": {
        "id": "Lv3badNqBy05"
      },
      "execution_count": 15,
      "outputs": []
    },
    {
      "cell_type": "code",
      "source": [
        "# Simple interest\n",
        "def fv_simple(pv: float, r: float, n: int):\n",
        "    return (1+r*n)*pv\n",
        "\n",
        "def pv_simple(fv: float, r: float, n: int):\n",
        "    return fv / (1 + r * n)\n",
        "\n",
        "def r_simple(pv: float, fv: float, n: int):\n",
        "    return (fv/pv - 1) /  n"
      ],
      "metadata": {
        "id": "Y1g7dAWxB1az"
      },
      "execution_count": 16,
      "outputs": []
    },
    {
      "cell_type": "code",
      "source": [
        "starting_capital = 1000 # PV\n",
        "r = 0.05 # 5% interest\n",
        "n = 50 # Years"
      ],
      "metadata": {
        "id": "dRZhhUTCB24I"
      },
      "execution_count": 17,
      "outputs": []
    },
    {
      "cell_type": "code",
      "source": [
        "fv = fv_simple(starting_capital, r, n)\n",
        "fv"
      ],
      "metadata": {
        "colab": {
          "base_uri": "https://localhost:8080/"
        },
        "id": "aoCQM0TuB6Ci",
        "outputId": "3c4cf11e-9b18-4d96-ad28-02a7e8d9027e"
      },
      "execution_count": 18,
      "outputs": [
        {
          "output_type": "execute_result",
          "data": {
            "text/plain": [
              "3500.0"
            ]
          },
          "metadata": {},
          "execution_count": 18
        }
      ]
    },
    {
      "cell_type": "code",
      "source": [
        "pv = pv_simple(fv, r, n)\n",
        "pv"
      ],
      "metadata": {
        "colab": {
          "base_uri": "https://localhost:8080/"
        },
        "id": "ZNqxbcWJB-gx",
        "outputId": "c138f270-aeb3-4fc3-b8bb-76e87793f75f"
      },
      "execution_count": 19,
      "outputs": [
        {
          "output_type": "execute_result",
          "data": {
            "text/plain": [
              "1000.0"
            ]
          },
          "metadata": {},
          "execution_count": 19
        }
      ]
    },
    {
      "cell_type": "code",
      "source": [
        "r_simple(pv, fv, n)"
      ],
      "metadata": {
        "colab": {
          "base_uri": "https://localhost:8080/"
        },
        "id": "0xWjFZtPCBPf",
        "outputId": "dc9cda6a-1bec-4028-966a-7e53d8c59d78"
      },
      "execution_count": 20,
      "outputs": [
        {
          "output_type": "execute_result",
          "data": {
            "text/plain": [
              "0.05"
            ]
          },
          "metadata": {},
          "execution_count": 20
        }
      ]
    },
    {
      "cell_type": "code",
      "source": [
        "#Compound Interest\n",
        "def fv_compound(pv, r: float, n: int):\n",
        "    return pv * (1+r)**n\n",
        "\n",
        "def pv_compound(fv: float, r: float, n: int):\n",
        "    return fv / (1 + r)**n\n",
        "\n",
        "def r_compound(pv: float, fv: float, n: int):\n",
        "    return (fv/pv)**(1/n) - 1"
      ],
      "metadata": {
        "id": "V-kzOAeECCkG"
      },
      "execution_count": 21,
      "outputs": []
    },
    {
      "cell_type": "code",
      "source": [
        "fv = fv_compound(starting_capital, r, n)\n",
        "fv"
      ],
      "metadata": {
        "colab": {
          "base_uri": "https://localhost:8080/"
        },
        "id": "VwVsqbH-CIVO",
        "outputId": "032e6abc-0307-4889-e321-e10d71d54471"
      },
      "execution_count": 22,
      "outputs": [
        {
          "output_type": "execute_result",
          "data": {
            "text/plain": [
              "11467.399785753702"
            ]
          },
          "metadata": {},
          "execution_count": 22
        }
      ]
    },
    {
      "cell_type": "code",
      "source": [
        "pv = pv_compound(fv, r, n)\n",
        "pv"
      ],
      "metadata": {
        "colab": {
          "base_uri": "https://localhost:8080/"
        },
        "id": "mCnsAuHgCLD3",
        "outputId": "0f16e2bb-8734-44e0-dfdf-cd73c3d88088"
      },
      "execution_count": 23,
      "outputs": [
        {
          "output_type": "execute_result",
          "data": {
            "text/plain": [
              "1000.0000000000001"
            ]
          },
          "metadata": {},
          "execution_count": 23
        }
      ]
    },
    {
      "cell_type": "code",
      "source": [
        "r_compound(pv, fv, n)"
      ],
      "metadata": {
        "colab": {
          "base_uri": "https://localhost:8080/"
        },
        "id": "a5ruGx0UCPit",
        "outputId": "5656d3e8-8e01-4b04-fd31-8cb0dc402cac"
      },
      "execution_count": 24,
      "outputs": [
        {
          "output_type": "execute_result",
          "data": {
            "text/plain": [
              "0.050000000000000044"
            ]
          },
          "metadata": {},
          "execution_count": 24
        }
      ]
    },
    {
      "cell_type": "code",
      "source": [
        "m = 12 # Monthly compounding"
      ],
      "metadata": {
        "id": "VF3zLhFFCSut"
      },
      "execution_count": 25,
      "outputs": []
    },
    {
      "cell_type": "code",
      "source": [
        "def fv_interval(pv: float, r: float, n: int, m: int):\n",
        "    return ((1 + r / m)**(m * n)) * pv\n",
        "\n",
        "def pv_interval(fv: float, r: float, n: int, m: int):\n",
        "    return fv / (1+r/m)**(m*n)\n",
        "\n",
        "def r_interval(pv: float, fv: float, n: int, m: int):\n",
        "    return ((fv / pv)**(1/(m*n)) - 1)* m"
      ],
      "metadata": {
        "id": "oMtyajHVCVhw"
      },
      "execution_count": 26,
      "outputs": []
    },
    {
      "cell_type": "code",
      "source": [
        "fv = fv_interval(starting_capital, r, n, m)\n",
        "fv"
      ],
      "metadata": {
        "colab": {
          "base_uri": "https://localhost:8080/"
        },
        "id": "Efw-a_j_CW9O",
        "outputId": "31b2f45d-62d3-49c1-d709-746cf3b0d214"
      },
      "execution_count": 27,
      "outputs": [
        {
          "output_type": "execute_result",
          "data": {
            "text/plain": [
              "12119.383211406064"
            ]
          },
          "metadata": {},
          "execution_count": 27
        }
      ]
    },
    {
      "cell_type": "code",
      "source": [
        "pv = pv_interval(fv, r, n, m)\n",
        "pv"
      ],
      "metadata": {
        "colab": {
          "base_uri": "https://localhost:8080/"
        },
        "id": "OHoMQqkUCc6y",
        "outputId": "b02fa2f1-c45b-44c2-91e6-0ec5920c3843"
      },
      "execution_count": 28,
      "outputs": [
        {
          "output_type": "execute_result",
          "data": {
            "text/plain": [
              "1000.0000000000001"
            ]
          },
          "metadata": {},
          "execution_count": 28
        }
      ]
    },
    {
      "cell_type": "code",
      "source": [
        "r_interval(pv, fv, n, m)"
      ],
      "metadata": {
        "colab": {
          "base_uri": "https://localhost:8080/"
        },
        "id": "8VjzvCZ0C3w_",
        "outputId": "b577188b-8368-4c32-dfb3-cd82a71f143d"
      },
      "execution_count": 29,
      "outputs": [
        {
          "output_type": "execute_result",
          "data": {
            "text/plain": [
              "0.04999999999999982"
            ]
          },
          "metadata": {},
          "execution_count": 29
        }
      ]
    },
    {
      "cell_type": "code",
      "source": [
        "#Continuous Interest\n",
        "def fv_continuous(pv: float, r: float, n: int):\n",
        "    return np.exp(r * n) * pv\n",
        "\n",
        "def pv_continuous(fv: float, r: float, n: int):\n",
        "    return fv / np.exp(r * n)\n",
        "\n",
        "def r_continuous(pv: float, fv: float, n: int):\n",
        "    return np.log(fv/pv) / n"
      ],
      "metadata": {
        "id": "ZpfG2idEC8le"
      },
      "execution_count": 30,
      "outputs": []
    },
    {
      "cell_type": "code",
      "source": [
        "fv = fv_continuous(starting_capital, r, n)\n",
        "fv"
      ],
      "metadata": {
        "colab": {
          "base_uri": "https://localhost:8080/"
        },
        "id": "gUobJD8VDCgQ",
        "outputId": "6a45e9a6-2b9e-4cb6-9caa-d2c98ac7d03b"
      },
      "execution_count": 31,
      "outputs": [
        {
          "output_type": "execute_result",
          "data": {
            "text/plain": [
              "12182.493960703474"
            ]
          },
          "metadata": {},
          "execution_count": 31
        }
      ]
    },
    {
      "cell_type": "code",
      "source": [
        "pv = pv_continuous(fv, r, n)\n",
        "pv"
      ],
      "metadata": {
        "colab": {
          "base_uri": "https://localhost:8080/"
        },
        "id": "1F-8p3EQDFrY",
        "outputId": "6aa2d5cf-8f3e-4fa2-cb73-c8ad35326081"
      },
      "execution_count": 32,
      "outputs": [
        {
          "output_type": "execute_result",
          "data": {
            "text/plain": [
              "1000.0000000000001"
            ]
          },
          "metadata": {},
          "execution_count": 32
        }
      ]
    },
    {
      "cell_type": "code",
      "source": [
        "r_continuous(pv, fv, n)"
      ],
      "metadata": {
        "colab": {
          "base_uri": "https://localhost:8080/"
        },
        "id": "YBWY5Zb1DKml",
        "outputId": "7674d325-d257-4a91-c59b-d560bbb111c8"
      },
      "execution_count": 33,
      "outputs": [
        {
          "output_type": "execute_result",
          "data": {
            "text/plain": [
              "0.05"
            ]
          },
          "metadata": {},
          "execution_count": 33
        }
      ]
    },
    {
      "cell_type": "code",
      "source": [
        "#Interest with periodic deposit\n",
        "A = 100. # Monthly added deposit"
      ],
      "metadata": {
        "id": "s-k7_GsNDL9K"
      },
      "execution_count": 34,
      "outputs": []
    },
    {
      "cell_type": "code",
      "source": [
        "def fv_with_deposit(r: float, n: int, m: int, a: float):\n",
        "    return (a / (r/m)) * ((1 + r/m)**(m*n) - 1)\n",
        "\n",
        "def pv_with_deposit(r: float, n: int, m: int, a: float):\n",
        "    return (a / (r/m)) * (1 - 1 / (1 + r / m)**(m*n))"
      ],
      "metadata": {
        "id": "uyPpzH-UIJu9"
      },
      "execution_count": 35,
      "outputs": []
    },
    {
      "cell_type": "code",
      "source": [
        "fv = fv_with_deposit(r, n, m, A)\n",
        "fv"
      ],
      "metadata": {
        "colab": {
          "base_uri": "https://localhost:8080/"
        },
        "id": "ZZLwqCGtINvR",
        "outputId": "c8b8864c-b281-4b5d-af7f-2e3a1a01b1d1"
      },
      "execution_count": 36,
      "outputs": [
        {
          "output_type": "execute_result",
          "data": {
            "text/plain": [
              "266865.19707374554"
            ]
          },
          "metadata": {},
          "execution_count": 36
        }
      ]
    },
    {
      "cell_type": "code",
      "source": [
        "pv_with_deposit(r, n, m, A)"
      ],
      "metadata": {
        "id": "QkhvJvdwIQiu",
        "outputId": "caef4b9b-1a6e-4004-bb12-bf9d514ae586",
        "colab": {
          "base_uri": "https://localhost:8080/"
        }
      },
      "execution_count": 37,
      "outputs": [
        {
          "output_type": "execute_result",
          "data": {
            "text/plain": [
              "22019.7012024991"
            ]
          },
          "metadata": {},
          "execution_count": 37
        }
      ]
    }
  ]
}