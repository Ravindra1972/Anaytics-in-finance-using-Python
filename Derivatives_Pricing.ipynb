{
  "nbformat": 4,
  "nbformat_minor": 0,
  "metadata": {
    "colab": {
      "provenance": [],
      "authorship_tag": "ABX9TyPDFX+lZ70eRK9A43WXDzZj",
      "include_colab_link": true
    },
    "kernelspec": {
      "name": "python3",
      "display_name": "Python 3"
    },
    "language_info": {
      "name": "python"
    }
  },
  "cells": [
    {
      "cell_type": "markdown",
      "metadata": {
        "id": "view-in-github",
        "colab_type": "text"
      },
      "source": [
        "<a href=\"https://colab.research.google.com/github/Ravindra1972/Anaytics-in-finance-using-Python/blob/main/Derivatives_Pricing.ipynb\" target=\"_parent\"><img src=\"https://colab.research.google.com/assets/colab-badge.svg\" alt=\"Open In Colab\"/></a>"
      ]
    },
    {
      "cell_type": "code",
      "execution_count": null,
      "metadata": {
        "id": "B74a0hAwRqfg"
      },
      "outputs": [],
      "source": [
        "import math\n",
        "import numpy as np\n",
        "import matplotlib.pyplot as plt\n",
        "from scipy.stats import norm"
      ]
    },
    {
      "cell_type": "code",
      "source": [
        "#model parameters\n",
        "S0 =100   # stock price at time zero\n",
        "k = 100.0 #  option strike price\n",
        "T =1.0  # date of maturity in years\n",
        "r = 0.05 # risk-free short rates\n",
        "sigma = 0.2  # annual volatility\n",
        "N = 4 # number of time intervals / no of steps\n"
      ],
      "metadata": {
        "id": "qaDv_ob7S_Tt"
      },
      "execution_count": null,
      "outputs": []
    },
    {
      "cell_type": "code",
      "source": [
        "# Time parameters\n",
        "dt = T /N # Length of each tie interval\n"
      ],
      "metadata": {
        "id": "ungmib3ITo1h"
      },
      "execution_count": null,
      "outputs": []
    },
    {
      "cell_type": "code",
      "source": [
        "R= math.exp(r * dt) # growth factor per interval\n",
        "df = math.exp(-r*dt) # discount factor per  interest\n",
        "print(df)"
      ],
      "metadata": {
        "colab": {
          "base_uri": "https://localhost:8080/"
        },
        "id": "7orhOPvHn05w",
        "outputId": "75970c4d-a292-41a5-97d8-bf7e8ad71e4e"
      },
      "execution_count": null,
      "outputs": [
        {
          "output_type": "stream",
          "name": "stdout",
          "text": [
            "0.9875778004938814\n"
          ]
        }
      ]
    },
    {
      "cell_type": "code",
      "source": [
        "#Binomial Parameters\n",
        "u = math.exp(sigma * math.sqrt(dt)) #upward movement\n",
        "d = 1/u # down movement\n",
        "p = (R-u)/(u-d)\n",
        "print(u,d,p)"
      ],
      "metadata": {
        "colab": {
          "base_uri": "https://localhost:8080/"
        },
        "id": "WMxmbjQmoF12",
        "outputId": "882ae445-9f99-43d2-9cf8-d1b8a0c9431c"
      },
      "execution_count": null,
      "outputs": [
        {
          "output_type": "stream",
          "name": "stdout",
          "text": [
            "1.1051709180756477 0.9048374180359595 -0.46219162804358604\n"
          ]
        }
      ]
    },
    {
      "cell_type": "code",
      "source": [
        "#simulate terminal stock price\n",
        "for i in reversed(range(N+1)):\n",
        "  ST=S0*u**i*d**(N-1)\n",
        "  print(i,ST)"
      ],
      "metadata": {
        "colab": {
          "base_uri": "https://localhost:8080/"
        },
        "id": "yBAVhS9Aopw7",
        "outputId": "ebe2e064-1fa9-4e58-eb85-71aaca2363fa"
      },
      "execution_count": null,
      "outputs": [
        {
          "output_type": "stream",
          "name": "stdout",
          "text": [
            "4 110.5170918075648\n",
            "3 100.00000000000001\n",
            "2 90.48374180359596\n",
            "1 81.87307530779817\n",
            "0 74.08182206817177\n"
          ]
        }
      ]
    },
    {
      "cell_type": "code",
      "source": [
        "S = np.zeros((N+1,N+1))"
      ],
      "metadata": {
        "id": "GeiCwzLUpJCb"
      },
      "execution_count": null,
      "outputs": []
    },
    {
      "cell_type": "code",
      "source": [
        "S"
      ],
      "metadata": {
        "colab": {
          "base_uri": "https://localhost:8080/"
        },
        "id": "BhiWFOiZpSIa",
        "outputId": "33fdfc56-b3a0-4d7d-96d5-61a93a97016e"
      },
      "execution_count": null,
      "outputs": [
        {
          "output_type": "execute_result",
          "data": {
            "text/plain": [
              "array([[0., 0., 0., 0., 0.],\n",
              "       [0., 0., 0., 0., 0.],\n",
              "       [0., 0., 0., 0., 0.],\n",
              "       [0., 0., 0., 0., 0.],\n",
              "       [0., 0., 0., 0., 0.]])"
            ]
          },
          "metadata": {},
          "execution_count": 17
        }
      ]
    },
    {
      "cell_type": "code",
      "source": [
        "#Simulate stock price\n",
        "# i:row index\n",
        "# j: column index\n",
        "for j in range(N+1):\n",
        "for i in range(j+1):\n",
        "S[j-i,j]=S0*u**i*d**(j-i)\n",
        "print(S[j-i,j])"
      ],
      "metadata": {
        "colab": {
          "base_uri": "https://localhost:8080/",
          "height": 142
        },
        "id": "-PfUkuM4pW_C",
        "outputId": "ca8d455c-847c-4b72-d08e-8a8f887f291e"
      },
      "execution_count": 2,
      "outputs": [
        {
          "output_type": "error",
          "ename": "IndentationError",
          "evalue": "ignored",
          "traceback": [
            "\u001b[0;36m  File \u001b[0;32m\"<ipython-input-2-4ef6f91d0030>\"\u001b[0;36m, line \u001b[0;32m5\u001b[0m\n\u001b[0;31m    for i in range(j+1):\u001b[0m\n\u001b[0m    ^\u001b[0m\n\u001b[0;31mIndentationError\u001b[0m\u001b[0;31m:\u001b[0m expected an indented block after 'for' statement on line 4\n"
          ]
        }
      ]
    }
  ]
}